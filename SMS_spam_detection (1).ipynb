{
  "nbformat": 4,
  "nbformat_minor": 0,
  "metadata": {
    "colab": {
      "provenance": []
    },
    "kernelspec": {
      "name": "python3",
      "display_name": "Python 3"
    },
    "language_info": {
      "name": "python"
    }
  },
  "cells": [
    {
      "cell_type": "code",
      "execution_count": null,
      "metadata": {
        "id": "PNlbpHghMx9i"
      },
      "outputs": [],
      "source": [
        "# Import Libraries\n",
        "import pandas as pd\n",
        "import numpy as np\n",
        "import matplotlib.pyplot as plt\n",
        "import seaborn as sns\n",
        "\n",
        "import re\n",
        "import string\n",
        "\n",
        "from sklearn.model_selection import train_test_split\n",
        "from sklearn.feature_extraction.text import TfidfVectorizer\n",
        "from sklearn.naive_bayes import MultinomialNB\n",
        "from sklearn.linear_model import LogisticRegression\n",
        "from sklearn.svm import LinearSVC\n",
        "\n",
        "from sklearn.metrics import classification_report, confusion_matrix, accuracy_score\n",
        "\n",
        "import warnings\n",
        "warnings.filterwarnings('ignore')\n"
      ]
    },
    {
      "cell_type": "code",
      "source": [
        "# Load Dataset\n",
        "url = \"https://raw.githubusercontent.com/justmarkham/pycon-2016-tutorial/master/data/sms.tsv\"\n",
        "df = pd.read_csv(url, sep='\\t', names=[\"label\", \"message\"])"
      ],
      "metadata": {
        "id": "ynUevfaTM-Y8"
      },
      "execution_count": null,
      "outputs": []
    },
    {
      "cell_type": "code",
      "source": [
        "# Encode Labels\n",
        "df['label'] = df['label'].map({'ham': 0, 'spam': 1})"
      ],
      "metadata": {
        "id": "YAJM2aLuNcLh"
      },
      "execution_count": null,
      "outputs": []
    },
    {
      "cell_type": "code",
      "source": [
        "# Text Preprocessing Function\n",
        "def clean_text(text):\n",
        "    text = text.lower()\n",
        "    text = re.sub(r\"http\\S+|www\\S+|https\\S+\", '', text, flags=re.MULTILINE)\n",
        "    text = re.sub(r'\\@w+|\\#','', text)\n",
        "    text = re.sub(r\"[^\\w\\s]\", '', text)\n",
        "    text = re.sub(r'\\d+', '', text)\n",
        "    text = text.strip()\n",
        "    return text\n",
        "\n",
        "df['cleaned'] = df['message'].apply(clean_text)"
      ],
      "metadata": {
        "id": "K33PxE86NlLs"
      },
      "execution_count": null,
      "outputs": []
    },
    {
      "cell_type": "code",
      "source": [
        "# TF-IDF Vectorization\n",
        "vectorizer = TfidfVectorizer(stop_words='english', max_df=0.7)\n",
        "X = vectorizer.fit_transform(df['cleaned'])\n",
        "y = df['label']"
      ],
      "metadata": {
        "id": "mCgfmHEANuHC"
      },
      "execution_count": null,
      "outputs": []
    },
    {
      "cell_type": "code",
      "source": [
        "# Train-Test Split\n",
        "X_train, X_test, y_train, y_test = train_test_split(X, y, test_size=0.2, random_state=42)"
      ],
      "metadata": {
        "id": "xGJQnLGxNzM2"
      },
      "execution_count": null,
      "outputs": []
    },
    {
      "cell_type": "code",
      "source": [
        "# Train Models\n",
        "\n",
        "## Naive Bayes\n",
        "nb_model = MultinomialNB()\n",
        "nb_model.fit(X_train, y_train)\n",
        "nb_preds = nb_model.predict(X_test)\n",
        "\n",
        "## Logistic Regression\n",
        "lr_model = LogisticRegression()\n",
        "lr_model.fit(X_train, y_train)\n",
        "lr_preds = lr_model.predict(X_test)\n",
        "\n",
        "## Support Vector Machine\n",
        "svm_model = LinearSVC()\n",
        "svm_model.fit(X_train, y_train)\n",
        "svm_preds = svm_model.predict(X_test)"
      ],
      "metadata": {
        "id": "NIqjXerAN3gk"
      },
      "execution_count": null,
      "outputs": []
    },
    {
      "cell_type": "code",
      "source": [
        "# Evaluation Function\n",
        "def evaluate_model(name, y_test, y_pred):\n",
        "    print(f\"📊 {name} Performance:\")\n",
        "    print(\"Accuracy:\", accuracy_score(y_test, y_pred))\n",
        "    print(\"Classification Report:\\n\", classification_report(y_test, y_pred))\n",
        "    cm = confusion_matrix(y_test, y_pred)\n",
        "    sns.heatmap(cm, annot=True, fmt='d', cmap='Blues')\n",
        "    plt.title(f'{name} Confusion Matrix')\n",
        "    plt.xlabel('Predicted')\n",
        "    plt.ylabel('Actual')\n",
        "    plt.show()"
      ],
      "metadata": {
        "id": "khI8JpOFN-8B"
      },
      "execution_count": null,
      "outputs": []
    },
    {
      "cell_type": "code",
      "source": [
        "# Evaluate Each Model\n",
        "evaluate_model(\"Naive Bayes\", y_test, nb_preds)\n",
        "evaluate_model(\"Logistic Regression\", y_test, lr_preds)\n",
        "evaluate_model(\"SVM\", y_test, svm_preds)\n"
      ],
      "metadata": {
        "colab": {
          "base_uri": "https://localhost:8080/",
          "height": 1000
        },
        "id": "ZpwtjaCVOULp",
        "outputId": "760b6bd2-5c02-40d0-9343-a2dd69680521"
      },
      "execution_count": null,
      "outputs": [
        {
          "output_type": "stream",
          "name": "stdout",
          "text": [
            "📊 Naive Bayes Performance:\n",
            "Accuracy: 0.9659192825112107\n",
            "Classification Report:\n",
            "               precision    recall  f1-score   support\n",
            "\n",
            "           0       0.96      1.00      0.98       966\n",
            "           1       1.00      0.74      0.85       149\n",
            "\n",
            "    accuracy                           0.97      1115\n",
            "   macro avg       0.98      0.87      0.92      1115\n",
            "weighted avg       0.97      0.97      0.96      1115\n",
            "\n"
          ]
        },
        {
          "output_type": "display_data",
          "data": {
            "text/plain": [
              "<Figure size 640x480 with 2 Axes>"
            ],
            "image/png": "[encoded data removed]"
          },
          "metadata": {}
        },
        {
          "output_type": "stream",
          "name": "stdout",
          "text": [
            "📊 Logistic Regression Performance:\n",
            "Accuracy: 0.9605381165919282\n",
            "Classification Report:\n",
            "               precision    recall  f1-score   support\n",
            "\n",
            "           0       0.96      1.00      0.98       966\n",
            "           1       1.00      0.70      0.83       149\n",
            "\n",
            "    accuracy                           0.96      1115\n",
            "   macro avg       0.98      0.85      0.90      1115\n",
            "weighted avg       0.96      0.96      0.96      1115\n",
            "\n"
          ]
        },
        {
          "output_type": "display_data",
          "data": {
            "text/plain": [
              "<Figure size 640x480 with 2 Axes>"
            ],
            "image/png": "[encoded data removed]"
          },
          "metadata": {}
        },
        {
          "output_type": "stream",
          "name": "stdout",
          "text": [
            "📊 SVM Performance:\n",
            "Accuracy: 0.9847533632286996\n",
            "Classification Report:\n",
            "               precision    recall  f1-score   support\n",
            "\n",
            "           0       0.98      1.00      0.99       966\n",
            "           1       1.00      0.89      0.94       149\n",
            "\n",
            "    accuracy                           0.98      1115\n",
            "   macro avg       0.99      0.94      0.97      1115\n",
            "weighted avg       0.99      0.98      0.98      1115\n",
            "\n"
          ]
        },
        {
          "output_type": "display_data",
          "data": {
            "text/plain": [
              "<Figure size 640x480 with 2 Axes>"
            ],
            "image/png": "[encoded data removed]"
          },
          "metadata": {}
        }
      ]
    },
    {
      "cell_type": "code",
      "source": [
        "import re\n",
        "from sklearn.feature_extraction.text import TfidfVectorizer\n",
        "from sklearn.svm import LinearSVC\n",
        "\n",
        "# Sample training from earlier\n",
        "X_train, X_test, y_train, y_test  # already created during training step\n",
        "\n",
        "# Train the model again (if not already trained)\n",
        "best_model = LinearSVC()\n",
        "best_model.fit(X_train, y_train)\n",
        "\n",
        "# TF-IDF must be the same one used for training\n",
        "# If tfidf wasn't saved, recreate and fit it on the full dataset\n",
        "tfidf = TfidfVectorizer(stop_words='english')\n",
        "tfidf.fit(df['cleaned'])  # use entire cleaned dataset for consistency\n",
        "\n",
        "# Sample input messages\n",
        "sample_messages = [\n",
        "    \"Congratulations! You've won a free iPhone. Click here to claim it.\",\n",
        "    \"Hey, are we still meeting for lunch today?\",\n",
        "    \"URGENT! Your account has been suspended. Verify now.\",\n",
        "    \"I'll be late for the meeting. Stuck in traffic!\",\n",
        "    \"Get cheap meds without prescription. Limited time only!\"\n",
        "]\n",
        "\n",
        "# Clean them\n",
        "def clean_text(text):\n",
        "    text = text.lower()\n",
        "    text = re.sub(r'\\d+', '', text)\n",
        "    text = re.sub(r'[^\\w\\s]', '', text)\n",
        "    return text.strip()\n",
        "\n",
        "cleaned_samples = [clean_text(msg) for msg in sample_messages]\n",
        "\n",
        "# Vectorize and predict\n",
        "sample_vectors = tfidf.transform(cleaned_samples)\n",
        "predictions = best_model.predict(sample_vectors)\n",
        "\n",
        "# Output\n",
        "for msg, pred in zip(sample_messages, predictions):\n",
        "    label = \"SPAM ❌\" if pred == 1 else \"HAM ✅\"\n",
        "    print(f\"📩 Message: \\\"{msg}\\\"\\n🔎 Prediction: {label}\\n\")"
      ],
      "metadata": {
        "colab": {
          "base_uri": "https://localhost:8080/"
        },
        "id": "0cjPZ5_EOWZF",
        "outputId": "60edfbc0-750a-4a4c-f6c9-5f8a5baf7828"
      },
      "execution_count": null,
      "outputs": [
        {
          "output_type": "stream",
          "name": "stdout",
          "text": [
            "📩 Message: \"Congratulations! You've won a free iPhone. Click here to claim it.\"\n",
            "🔎 Prediction: SPAM ❌\n",
            "\n",
            "📩 Message: \"Hey, are we still meeting for lunch today?\"\n",
            "🔎 Prediction: HAM ✅\n",
            "\n",
            "📩 Message: \"URGENT! Your account has been suspended. Verify now.\"\n",
            "🔎 Prediction: SPAM ❌\n",
            "\n",
            "📩 Message: \"I'll be late for the meeting. Stuck in traffic!\"\n",
            "🔎 Prediction: HAM ✅\n",
            "\n",
            "📩 Message: \"Get cheap meds without prescription. Limited time only!\"\n",
            "🔎 Prediction: HAM ✅\n",
            "\n"
          ]
        }
      ]
    },
    {
      "cell_type": "code",
      "source": [
        "# Ensure required libraries are available\n",
        "import re\n",
        "\n",
        "# 🧼 Cleaning function\n",
        "def clean_text(text):\n",
        "    text = text.lower()\n",
        "    text = re.sub(r'\\d+', '', text)  # remove digits\n",
        "    text = re.sub(r'[^\\w\\s]', '', text)  # remove punctuation\n",
        "    return text.strip()\n",
        "\n",
        "# 🧠 Load/define the trained model and vectorizer again (if needed)\n",
        "# (Assumes `best_model` and `tfidf` are trained and available)\n",
        "\n",
        "# 🔁 Interactive prediction loop\n",
        "while True:\n",
        "    user_input = input(\"📨 Enter an SMS message (or type 'exit' to quit):\\n> \")\n",
        "\n",
        "    if user_input.lower() == 'exit':\n",
        "        print(\"👋 Exiting SMS classifier. Stay safe from spam!\")\n",
        "        break\n",
        "\n",
        "    # Clean and vectorize input\n",
        "    cleaned = clean_text(user_input)\n",
        "    vector = tfidf.transform([cleaned])\n",
        "\n",
        "    # Predict and display\n",
        "    prediction = best_model.predict(vector)[0]\n",
        "    label = \"SPAM ❌\" if prediction == 1 else \"HAM ✅\"\n",
        "\n",
        "    print(f\"\\n🔎 Prediction: {label}\\n{'-'*50}\")"
      ],
      "metadata": {
        "colab": {
          "base_uri": "https://localhost:8080/"
        },
        "id": "haDMfDuzOfBZ",
        "outputId": "80239d61-4879-493d-a7a7-de0a4afd7612"
      },
      "execution_count": null,
      "outputs": [
        {
          "output_type": "stream",
          "name": "stdout",
          "text": [
            "📨 Enter an SMS message (or type 'exit' to quit):\n",
            "> exit\n",
            "👋 Exiting SMS classifier. Stay safe from spam!\n"
          ]
        }
      ]
    }
  ]
}